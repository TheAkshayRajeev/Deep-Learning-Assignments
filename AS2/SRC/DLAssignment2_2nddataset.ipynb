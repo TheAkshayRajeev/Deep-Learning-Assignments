{
 "cells": [
  {
   "cell_type": "code",
   "execution_count": 1,
   "metadata": {},
   "outputs": [],
   "source": [
    "import numpy as np\n",
    "import pandas as pd\n",
    "import matplotlib.pyplot as plt\n",
    "from sklearn.model_selection import train_test_split\n",
    "from sklearn.datasets import load_wine"
   ]
  },
  {
   "cell_type": "code",
   "execution_count": 2,
   "metadata": {
    "scrolled": true
   },
   "outputs": [],
   "source": [
    "# reading the data\n",
    "# wine_data = pd.read_csv(\"wine.data\", header = None)\n",
    "colnames = ['Class','Alcohol','Malic acid','Ash','Alcalinity of ash','Magnesium','Total phenols','Flavanoids','Nonflavanoid phenols','Proanthocyanins','Color intensity','Hue','dilute','Proline']\n",
    "wine_data = pd.read_csv('https://archive.ics.uci.edu/ml/machine-learning-databases/wine/wine.data',names = colnames,index_col = False)\n",
    "wine_data = pd.get_dummies(wine_data, columns=['Class'])"
   ]
  },
  {
   "cell_type": "code",
   "execution_count": 3,
   "metadata": {},
   "outputs": [],
   "source": [
    "#one hot encoding and train validation split\n",
    "labels = wine_data.loc[:,['Class_1','Class_2','Class_3']]\n",
    "labels = labels.values\n",
    "features = wine_data.drop(['Class_1','Class_2','Class_3','Ash'],axis = 1)\n",
    "features = features.values\n",
    "x_train,x_test,y_train,y_test = train_test_split(features,labels,test_size = 0.1,stratify = labels, random_state = 10)"
   ]
  },
  {
   "cell_type": "code",
   "execution_count": 4,
   "metadata": {},
   "outputs": [],
   "source": [
    "# normalizing\n",
    "train_mean = x_train.mean()\n",
    "train_std = x_train.std()\n",
    "x_train = ((x_train - train_mean )/train_std)\n",
    "x_test = ((x_test - train_mean)/train_std)\n",
    "x_train,x_val,y_train,y_val = train_test_split(x_train, y_train,test_size = 0.1,stratify = y_train, random_state = 10)"
   ]
  },
  {
   "cell_type": "code",
   "execution_count": 5,
   "metadata": {},
   "outputs": [],
   "source": [
    "# neural network datastructure\n",
    "class ANN(object):\n",
    "    def __init__(self):        \n",
    "        #Define Hyperparameters\n",
    "        self.inputLayerSize = 12 #we have 12 features\n",
    "        self.outputLayerSize = 3 #we have 3 outputs class\n",
    "        self.hiddenLayerSize_1 =128 #chosen randomly\n",
    "        self.hiddenLayerSize_2 =128 #chosen randomly\n",
    "        self.lr = 0.0001 #a lower learning rate\n",
    "        \n",
    "        #random weights for three layers\n",
    "        self.W1 = np.random.randn(self.inputLayerSize, self.hiddenLayerSize_1)\n",
    "        self.W2 = np.random.randn(self.hiddenLayerSize_1, self.hiddenLayerSize_2)\n",
    "        self.W3 = np.random.randn(self.hiddenLayerSize_2, self.outputLayerSize)\n",
    "        \n",
    "    def sigmoid(self,z):\n",
    "        return 1/(1+np.exp(-z)) \n",
    "    def determinent_sigmoid(self, z):\n",
    "        return self.sigmoid(z)*(1-self.sigmoid(z))  \n",
    "    \n",
    "    def forward_pass(self, X):\n",
    "        #forward pass\n",
    "        self.z1 = np.dot(X, self.W1)\n",
    "        self.a1 = self.sigmoid(self.z1)\n",
    "        self.z2 = np.dot(self.a1, self.W2)\n",
    "        self.a2 = self.sigmoid(self.z2)\n",
    "        self.z3 = np.dot(self.a2, self.W3)\n",
    "        self.y_hat= self.soft_max(self.z3.T)\n",
    "        return 0\n",
    "        \n",
    "    def backward_pass(self,X, Y):\n",
    "        #backward pass\n",
    "        determinent_loss_z3 = self.y_hat.T - Y\n",
    "        determinent_z33 = self.a2 \n",
    "        self.determinent_w3 = np.dot(determinent_z33.T,determinent_loss_z3)\n",
    "        self.determinent_w2 = np.dot((self.a1.T),(self.determinent_sigmoid(self.z2)*np.dot(determinent_loss_z3,self.W3.T)))   \n",
    "        determinent_z11 = X\n",
    "        determinent_loss_activation2 = np.dot(determinent_loss_z3,self.W3.T)\n",
    "        determinent_z2 = self.determinent_sigmoid(self.z2)\n",
    "        determinent_z1 = self.determinent_sigmoid(self.z1)\n",
    "        determinent_z2_a1 = self.W2\n",
    "        self.determinent_w1 = np.dot(determinent_z11.T,((determinent_loss_activation2)*(determinent_z2 * np.dot(determinent_z1,determinent_z2_a1))))\n",
    "        return 0\n",
    "    \n",
    "    def soft_max(self,z):\n",
    "        #sum = 1\n",
    "        return np.exp(z) / np.sum(np.exp(z), axis=0)\n",
    "   \n",
    "    def update_weights(self):  \n",
    "        self.W1 -= self.lr*self.determinent_w1\n",
    "        self.W2 -= self.lr*self.determinent_w2\n",
    "        self.W3 -= self.lr*self.determinent_w3\n",
    "        \n",
    "    def categorical_crossentropy(self,X,actual_label):\n",
    "        self.forward_pass(X)\n",
    "        self.loss = 0\n",
    "        for x,y in zip(np.array(actual_label),self.y_hat.T):\n",
    "            self.loss += np.sum(x*np.log(y))\n",
    "        return (-1*self.loss)\n",
    "        "
   ]
  },
  {
   "cell_type": "code",
   "execution_count": 6,
   "metadata": {
    "scrolled": true
   },
   "outputs": [],
   "source": [
    "#computation\n",
    "epoch = 1000\n",
    "validation_accuracy = []\n",
    "temp_validation_loss = []\n",
    "accuracy = []\n",
    "validation_loss = []\n",
    "my_network = ANN()\n",
    "for epoch_number in range(epoch):\n",
    "    validation_loss.append(my_network.categorical_crossentropy(x_train,y_train))\n",
    "    count = 0\n",
    "    pred_label = []\n",
    "    for i in my_network.y_hat.T:\n",
    "        max_value = np.max(i)\n",
    "        pred_label.append(list(np.where(i==max_value,1,0)))\n",
    "    for i,j in zip(np.array(y_train),pred_label):\n",
    "        if ((i[0] == j[0]) & (i[1] == j[1]) & (i[2] == j[2])):\n",
    "            count +=1\n",
    "    accuracy.append((count/y_train.shape[0])*100)\n",
    "    my_network.backward_pass(x_train,y_train)\n",
    "    my_network.update_weights()\n",
    "    my_network.forward_pass(x_val)\n",
    "    a , vl, c = 0, 0 , 0\n",
    "    pred_label = []\n",
    "    for i in my_network.y_hat.T:\n",
    "        max_value = np.max(i)\n",
    "        pred_label.append(list(np.where(i==max_value,1,0)))\n",
    "    for i,j in zip(np.array(y_val),pred_label):\n",
    "        if ((i[0] == j[0]) & (i[1] == j[1]) & (i[2] == j[2])):\n",
    "            c +=1\n",
    "    a = ((c/x_val.shape[0])*100)\n",
    "    vl = (my_network.categorical_crossentropy(x_val,y_val))\n",
    "    validation_accuracy.append(a)\n",
    "    temp_validation_loss.append(vl)"
   ]
  },
  {
   "cell_type": "code",
   "execution_count": 7,
   "metadata": {},
   "outputs": [
    {
     "data": {
      "image/png": "[encoded data removed]",
      "text/plain": [
       "<Figure size 432x288 with 1 Axes>"
      ]
     },
     "metadata": {
      "needs_background": "light"
     },
     "output_type": "display_data"
    }
   ],
   "source": [
    "#results\n",
    "import matplotlib.pyplot as plt\n",
    "plt.plot(range(epoch),accuracy)\n",
    "plt.show()"
   ]
  },
  {
   "cell_type": "code",
   "execution_count": 8,
   "metadata": {},
   "outputs": [
    {
     "data": {
      "image/png": "[encoded data removed]",
      "text/plain": [
       "<Figure size 432x288 with 1 Axes>"
      ]
     },
     "metadata": {
      "needs_background": "light"
     },
     "output_type": "display_data"
    }
   ],
   "source": [
    "import matplotlib.pyplot as plt\n",
    "plt.plot(range(epoch),validation_loss)\n",
    "plt.show()"
   ]
  },
  {
   "cell_type": "code",
   "execution_count": 9,
   "metadata": {},
   "outputs": [],
   "source": [
    "# pred_label = []\n",
    "# for i in my_network.y_hat.T:\n",
    "#     max_value = np.max(i)\n",
    "#     pred_label.append(list(np.where(i==max_value,1,0)))"
   ]
  },
  {
   "cell_type": "code",
   "execution_count": 11,
   "metadata": {},
   "outputs": [
    {
     "name": "stdout",
     "output_type": "stream",
     "text": [
      "Accuracy: 83.33333333333334%\n"
     ]
    }
   ],
   "source": [
    "# Evaluate model\n",
    "my_network.forward_pass(x_test)\n",
    "accuracy = []\n",
    "validation_loss, c = 0, 0\n",
    "pred_label = []\n",
    "for i in my_network.y_hat.T:\n",
    "        max_value = np.max(i)\n",
    "        pred_label.append(list(np.where(i==max_value,1,0)))\n",
    "for i,j in zip(np.array(y_test),pred_label):\n",
    "        if ((i[0] == j[0]) & (i[1] == j[1]) & (i[2] == j[2])):\n",
    "            c +=1\n",
    "accuracy, validation_loss = ((c/x_test.shape[0])*100), (my_network.categorical_crossentropy(x_test,y_test))\n",
    "print (\"Accuracy: \"+str(accuracy)+ \"%\")"
   ]
  }
 ],
 "metadata": {
  "kernelspec": {
   "display_name": "Python 3",
   "language": "python",
   "name": "python3"
  },
  "language_info": {
   "codemirror_mode": {
    "name": "ipython",
    "version": 3
   },
   "file_extension": ".py",
   "mimetype": "text/x-python",
   "name": "python",
   "nbconvert_exporter": "python",
   "pygments_lexer": "ipython3",
   "version": "3.7.4"
  }
 },
 "nbformat": 4,
 "nbformat_minor": 2
}
