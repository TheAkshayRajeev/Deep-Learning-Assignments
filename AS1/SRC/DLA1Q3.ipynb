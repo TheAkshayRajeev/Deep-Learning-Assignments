{
 "cells": [
  {
   "cell_type": "code",
   "execution_count": 93,
   "metadata": {},
   "outputs": [],
   "source": [
    "from sklearn.model_selection import train_test_split\n",
    "from sklearn.naive_bayes import MultinomialNB\n",
    "import numpy as np\n",
    "from pandas import read_csv\n",
    "import matplotlib.pyplot as plt\n",
    "from keras.optimizers import RMSprop\n",
    "\n",
    "from keras import models\n",
    "from keras import layers\n",
    "from sklearn.metrics import mean_absolute_error \n",
    "from keras import regularizers\n",
    "from keras import optimizers\n",
    "from keras.layers.normalization import BatchNormalization\n",
    "from keras.callbacks import ModelCheckpoint\n",
    "\n",
    "\n",
    "#Function to load the data \n",
    "def load_crime_data():\n",
    "    \n",
    "    attributes = ['state' ,'county' ,'community' ,'communityname' ,'fold' ,'population' ,'householdsize' ,'racepctblack' ,'racePctWhite' ,'racePctAsian' ,'racePctHisp' ,'agePct12t21' \n",
    "                  ,'agePct12t29' ,'agePct16t24' ,'agePct65up' ,'numbUrban' ,'pctUrban' ,'medIncome' ,'pctWWage' ,'pctWFarmSelf' ,'pctWInvInc' ,'pctWSocSec' ,'pctWPubAsst' ,'pctWRetire' \n",
    "                  ,'medFamInc' ,'perCapInc' ,'whitePerCap' ,'blackPerCap' ,'indianPerCap' ,'AsianPerCap' ,'OtherPerCap' ,'HispPerCap' ,'NumUnderPov' ,'PctPopUnderPov' ,'PctLess9thGrade' \n",
    "                  ,'PctNotHSGrad' ,'PctBSorMore' ,'PctUnemployed' ,'PctEmploy' ,'PctEmplManu' ,'PctEmplProfServ' ,'PctOccupManu' ,'PctOccupMgmtProf' ,'MalePctDivorce' ,'MalePctNevMarr' \n",
    "                  ,'FemalePctDiv' ,'TotalPctDiv' ,'PersPerFam' ,'PctFam2Par' ,'PctKids2Par' ,'PctYoungKids2Par' ,'PctTeen2Par' ,'PctWorkMomYoungKids' ,'PctWorkMom' ,'NumIlleg' ,'PctIlleg' \n",
    "                  ,'NumImmig' ,'PctImmigRecent' ,'PctImmigRec5' ,'PctImmigRec8' ,'PctImmigRec10' ,'PctRecentImmig' ,'PctRecImmig5' ,'PctRecImmig8' ,'PctRecImmig10' ,'PctSpeakEnglOnly' \n",
    "                  ,'PctNotSpeakEnglWell' ,'PctLargHouseFam' ,'PctLargHouseOccup' ,'PersPerOccupHous' ,'PersPerOwnOccHous' ,'PersPerRentOccHous' ,'PctPersOwnOccup' ,'PctPersDenseHous' \n",
    "                  ,'PctHousLess3BR' ,'MedNumBR' ,'HousVacant' ,'PctHousOccup' ,'PctHousOwnOcc' ,'PctVacantBoarded' ,'PctVacMore6Mos' ,'MedYrHousBuilt' ,'PctHousNoPhone' ,'PctWOFullPlumb' \n",
    "                  ,'OwnOccLowQuart' ,'OwnOccMedVal' ,'OwnOccHiQuart' ,'RentLowQ' ,'RentMedian' ,'RentHighQ' ,'MedRent' ,'MedRentPctHousInc' ,'MedOwnCostPctInc' ,'MedOwnCostPctIncNoMtg' \n",
    "                  ,'NumInShelters' ,'NumStreet' ,'PctForeignBorn' ,'PctBornSameState' ,'PctSameHouse85' ,'PctSameCity85' ,'PctSameState85' ,'LemasSwornFT' ,'LemasSwFTPerPop' ,'LemasSwFTFieldOps' \n",
    "                  ,'LemasSwFTFieldPerPop' ,'LemasTotalReq' ,'LemasTotReqPerPop' ,'PolicReqPerOffic' ,'PolicPerPop' ,'RacialMatchCommPol' ,'PctPolicWhite' ,'PctPolicBlack' ,'PctPolicHisp' \n",
    "                  ,'PctPolicAsian' ,'PctPolicMinor' ,'OfficAssgnDrugUnits' ,'NumKindsDrugsSeiz' ,'PolicAveOTWorked' ,'LandArea' ,'PopDens' ,'PctUsePubTrans' ,'PolicCars' ,'PolicOperBudg' \n",
    "                  ,'LemasPctPolicOnPatr' ,'LemasGangUnitDeploy' ,'LemasPctOfficDrugUn' ,'PolicBudgPerPop' ,'ViolentCrimesPerPop']\n",
    "    data = read_csv('communities.data', names = attributes)\n",
    "    #removing data that cannot be processed due to different data types\n",
    "    data = data.drop(columns=['state','county','community','communityname','fold'], axis=1)\n",
    "    return data   \n",
    "\n",
    "\n",
    "                    \n",
    "#loading and data preprocessing the data\n",
    "\n",
    "from pandas import DataFrame\n",
    "data = load_crime_data()\n",
    "#replace question mark by Nan\n",
    "data = data.replace('?', np.nan)\n",
    "feat_miss = data.columns[data.isnull().any()]\n",
    "\n",
    "# Impute mean values for samples with missing values\n",
    "\n",
    "from sklearn.impute import SimpleImputer\n",
    "replace = SimpleImputer(missing_values = np.nan, strategy = 'median') #OtherPerCap column has only one missing value \n",
    "replace = imputer.fit(data[['OtherPerCap']])                        #so I am  replacing with mean value\n",
    "data[['OtherPerCap']] = replace.transform(data[['OtherPerCap']])\n",
    "#Drop all other columns\n",
    "data = data.dropna(axis=1) \n",
    "\n",
    "#input and lables\n",
    "X = data\n",
    "Y = data.pop('ViolentCrimesPerPop')\n",
    "\n",
    "#spliting the data into training and testing data\n",
    "X_train, X_test, Y_train, Y_test = train_test_split(X,Y, test_size=0.2)\n",
    "\n",
    "x_train_mean = np.mean(X_train)\n",
    "x_train_std = np.std(X_train)\n",
    "X_train = (X_train - x_train_mean)/x_train_std\n",
    "X_test = (X_test - x_train_mean)/x_train_std\n"
   ]
  },
  {
   "cell_type": "code",
   "execution_count": 94,
   "metadata": {},
   "outputs": [],
   "source": [
    "def build_model():\n",
    "    \n",
    "    model = models.Sequential()\n",
    "    model.add(layers.Dense(64, activation='relu',input_shape=(100,)))\n",
    "    model.add(layers.Dense(64, activation='relu'))\n",
    "    model.add(layers.Dense(1))\n",
    "\n",
    "    model.compile(optimizer=RMSprop(learning_rate = 0.0001), loss='mse', metrics=['mae'])\n",
    "    checkpointer = ModelCheckpoint(filepath=\"weights.finalmodel\", verbose=0, save_best_only=True)\n",
    "    callbacks_list = [checkpointer]\n",
    "    return model"
   ]
  },
  {
   "cell_type": "code",
   "execution_count": 97,
   "metadata": {},
   "outputs": [
    {
     "name": "stdout",
     "output_type": "stream",
     "text": [
      "processing fold # 0\n",
      "processing fold # 1\n",
      "processing fold # 2\n",
      "processing fold # 3\n"
     ]
    }
   ],
   "source": [
    "# k Fold cross validation\n",
    "\n",
    "k = 4\n",
    "num_val_samples = len(X_train)//k\n",
    "num_epochs = 200\n",
    "all_scores = []\n",
    "all_mae_histories = []\n",
    "callbacks_list = []\n",
    "\n",
    "for i in range(k):\n",
    "    print('processing fold #', i)\n",
    "    # Prepare the validation data: data from partition # k\n",
    "    val_X = X_train[i *num_val_samples: (i + 1) *num_val_samples]\n",
    "    val_Y = Y_train[i * num_val_samples: (i + 1) * num_val_samples]\n",
    "\n",
    "    # Prepare the training data: data from all other partitions\n",
    "    partial_train_X = np.concatenate(\n",
    "        [X_train[:i * num_val_samples],\n",
    "         X_train[(i + 1) * num_val_samples:]],\n",
    "        axis=0)\n",
    "    partial_train_Y = np.concatenate(\n",
    "        [Y_train[:i * num_val_samples],\n",
    "         Y_train[(i + 1) * num_val_samples:]],\n",
    "        axis=0)\n",
    "    \n",
    "    # Build the Keras model (already compiled)\n",
    "    model = build_model()\n",
    "    \n",
    "    # Train the model (in silent mode, verbose=0)\n",
    "    history = model.fit(partial_train_X, partial_train_Y,\n",
    "                        epochs=num_epochs, batch_size=1, \n",
    "                        verbose=0, validation_data = (val_X,val_Y),\n",
    "                        callbacks=callbacks_list)\n",
    "    mae_history = history.history['val_mae']\n",
    "    all_mae_histories.append(mae_history)\n",
    "    \n",
    "    # Evaluate the model on the validation data\n",
    "    val_mse, val_mae = model.evaluate(val_X, val_Y, verbose=0)\n",
    "    all_scores.append(val_mae)\n",
    "\n",
    "average_mae_history = [\n",
    "    np.mean([x[i] for x in all_mae_histories]) for i in range(num_epochs)]"
   ]
  },
  {
   "cell_type": "code",
   "execution_count": 98,
   "metadata": {},
   "outputs": [
    {
     "data": {
      "text/plain": [
       "[0.13888193666934967,\n",
       " 0.130196675658226,\n",
       " 0.14208023250102997,\n",
       " 0.1334351897239685]"
      ]
     },
     "execution_count": 98,
     "metadata": {},
     "output_type": "execute_result"
    }
   ],
   "source": [
    "all_scores"
   ]
  },
  {
   "cell_type": "code",
   "execution_count": 99,
   "metadata": {},
   "outputs": [
    {
     "data": {
      "text/plain": [
       "0.13614850863814354"
      ]
     },
     "execution_count": 99,
     "metadata": {},
     "output_type": "execute_result"
    }
   ],
   "source": [
    "np.mean(all_scores)"
   ]
  },
  {
   "cell_type": "code",
   "execution_count": 100,
   "metadata": {
    "scrolled": false
   },
   "outputs": [
    {
     "data": {
      "image/png": "[encoded data removed]",
      "text/plain": [
       "<Figure size 432x288 with 1 Axes>"
      ]
     },
     "metadata": {
      "needs_background": "light"
     },
     "output_type": "display_data"
    },
    {
     "data": {
      "image/png": "[encoded data removed]",
      "text/plain": [
       "<Figure size 432x288 with 1 Axes>"
      ]
     },
     "metadata": {
      "needs_background": "light"
     },
     "output_type": "display_data"
    }
   ],
   "source": [
    "import matplotlib.pyplot as plt\n",
    "\n",
    "plt.plot(range(1, len(average_mae_history) + 1), average_mae_history)\n",
    "plt.xlabel('Epochs')\n",
    "plt.ylabel('Validation MAE')\n",
    "plt.show()\n",
    "\n",
    "def smooth_curve(points, factor=0.9):\n",
    "  smoothed_points = []\n",
    "  for point in points:\n",
    "    if smoothed_points:\n",
    "      previous = smoothed_points[-1]\n",
    "      smoothed_points.append(previous * factor + point * (1 - factor))\n",
    "    else:\n",
    "      smoothed_points.append(point)\n",
    "  return smoothed_points\n",
    "\n",
    "smooth_mae_history = smooth_curve(average_mae_history[10:])\n",
    "\n",
    "# plt.plot(history.history['loss'])\n",
    "plt.plot(range(1, len(smooth_mae_history) + 1), smooth_mae_history)\n",
    "plt.xlabel('Epochs')\n",
    "plt.ylabel('Validation MAE')\n",
    "plt.show()\n"
   ]
  },
  {
   "cell_type": "code",
   "execution_count": 102,
   "metadata": {},
   "outputs": [
    {
     "name": "stdout",
     "output_type": "stream",
     "text": [
      "399/399 [==============================] - 0s 49us/step\n",
      "0.13749772310256958\n"
     ]
    }
   ],
   "source": [
    "model = build_model()\n",
    "model.fit(X_train,Y_train,\n",
    "         epochs = 25, batch_size = 20, verbose = 0)\n",
    "test_mse, test_mae = model.evaluate(X_test,Y_test)\n",
    "print(test_mae)"
   ]
  },
  {
   "cell_type": "code",
   "execution_count": null,
   "metadata": {},
   "outputs": [],
   "source": []
  }
 ],
 "metadata": {
  "kernelspec": {
   "display_name": "Python 3",
   "language": "python",
   "name": "python3"
  },
  "language_info": {
   "codemirror_mode": {
    "name": "ipython",
    "version": 3
   },
   "file_extension": ".py",
   "mimetype": "text/x-python",
   "name": "python",
   "nbconvert_exporter": "python",
   "pygments_lexer": "ipython3",
   "version": "3.7.4"
  }
 },
 "nbformat": 4,
 "nbformat_minor": 2
}
