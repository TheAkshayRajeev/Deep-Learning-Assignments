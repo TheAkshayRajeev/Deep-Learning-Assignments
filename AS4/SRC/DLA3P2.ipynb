{
 "cells": [
  {
   "cell_type": "code",
   "execution_count": 1,
   "metadata": {},
   "outputs": [
    {
     "name": "stderr",
     "output_type": "stream",
     "text": [
      "Using TensorFlow backend.\n"
     ]
    }
   ],
   "source": [
    "import time\n",
    "import matplotlib.pyplot as plt\n",
    "import matplotlib.image as mpimg\n",
    "import numpy as np\n",
    "import itertools\n",
    "\n",
    "import keras\n",
    "from keras.utils.np_utils import to_categorical\n",
    "from keras.callbacks import ModelCheckpoint\n",
    "from keras.optimizers import Adam\n",
    "from keras.optimizers import RMSprop\n",
    "from keras.models import Sequential\n",
    "import itertools\n",
    "from keras.layers.normalization import BatchNormalization\n",
    "from keras.utils.np_utils import to_categorical\n",
    "from sklearn.model_selection import train_test_split\n",
    "\n",
    "from keras.datasets import cifar10\n",
    "(x_train, y_train), (x_test, y_test) = cifar10.load_data()\n",
    "\n",
    "class_names = ['airplane','automobile','bird','cat','deer',\n",
    "               'dog','frog','horse','ship','truck']"
   ]
  },
  {
   "cell_type": "code",
   "execution_count": 2,
   "metadata": {},
   "outputs": [
    {
     "data": {
      "text/plain": [
       "(50000, 32, 32, 3)"
      ]
     },
     "execution_count": 2,
     "metadata": {},
     "output_type": "execute_result"
    }
   ],
   "source": [
    "x_train.shape"
   ]
  },
  {
   "cell_type": "code",
   "execution_count": 3,
   "metadata": {},
   "outputs": [
    {
     "name": "stdout",
     "output_type": "stream",
     "text": [
      "[0 1 2 3 4 5 6 7 8 9]\n"
     ]
    }
   ],
   "source": [
    "# x_train = np.reshape(x_train,(50000,3072))\n",
    "# print(x_train.shape)\n",
    "# x_test = np.reshape(x_test,(10000,3072))\n",
    "\n",
    "#standardizing\n",
    "x_train_mean = np.mean(x_train)\n",
    "x_train_std  = np.std(x_train)\n",
    "\n",
    "x_test_mean = np.mean(x_test)\n",
    "x_test_std = np.std(x_test)\n",
    "\n",
    "x_train = (x_train - x_train_mean) / x_train_std\n",
    "x_test  = (x_test - x_test_mean) / x_test_std \n",
    "\n",
    "print(np.unique(y_train))\n",
    "y_train = to_categorical(y_train)\n",
    "y_test = to_categorical(y_test)\n",
    "\n",
    "x_train, x_validate, y_train, y_validate = train_test_split(x_train, y_train, test_size = 0.2, random_state = 1201)"
   ]
  },
  {
   "cell_type": "code",
   "execution_count": 4,
   "metadata": {
    "scrolled": false
   },
   "outputs": [
    {
     "name": "stdout",
     "output_type": "stream",
     "text": [
      "Model: \"sequential_1\"\n",
      "_________________________________________________________________\n",
      "Layer (type)                 Output Shape              Param #   \n",
      "=================================================================\n",
      "conv2d_1 (Conv2D)            (None, 32, 32, 32)        896       \n",
      "_________________________________________________________________\n",
      "max_pooling2d_1 (MaxPooling2 (None, 16, 16, 32)        0         \n",
      "_________________________________________________________________\n",
      "batch_normalization_1 (Batch (None, 16, 16, 32)        128       \n",
      "_________________________________________________________________\n",
      "conv2d_2 (Conv2D)            (None, 16, 16, 128)       36992     \n",
      "_________________________________________________________________\n",
      "max_pooling2d_2 (MaxPooling2 (None, 8, 8, 128)         0         \n",
      "_________________________________________________________________\n",
      "batch_normalization_2 (Batch (None, 8, 8, 128)         512       \n",
      "_________________________________________________________________\n",
      "dropout_1 (Dropout)          (None, 8, 8, 128)         0         \n",
      "_________________________________________________________________\n",
      "flatten_1 (Flatten)          (None, 8192)              0         \n",
      "_________________________________________________________________\n",
      "dense_1 (Dense)              (None, 512)               4194816   \n",
      "_________________________________________________________________\n",
      "batch_normalization_3 (Batch (None, 512)               2048      \n",
      "_________________________________________________________________\n",
      "dropout_2 (Dropout)          (None, 512)               0         \n",
      "_________________________________________________________________\n",
      "dense_2 (Dense)              (None, 10)                5130      \n",
      "=================================================================\n",
      "Total params: 4,240,522\n",
      "Trainable params: 4,239,178\n",
      "Non-trainable params: 1,344\n",
      "_________________________________________________________________\n"
     ]
    }
   ],
   "source": [
    "from keras import layers\n",
    "from keras import models\n",
    "from keras.models import Sequential\n",
    "from keras.layers import Dense, Dropout, Flatten, Conv2D, MaxPool2D\n",
    "from keras import backend as K\n",
    "import itertools\n",
    "from keras.layers.normalization import BatchNormalization\n",
    "from keras.applications.vgg16 import VGG16\n",
    "\n",
    "model1 = models.Sequential()\n",
    "\n",
    "model1.add(layers.Conv2D(32, (3, 3), activation = 'relu', padding = 'same', input_shape = (32, 32, 3)))\n",
    "model1.add(layers.MaxPooling2D((2, 2)))\n",
    "model1.add(BatchNormalization())\n",
    "\n",
    "model1.add(layers.Conv2D(128, (3, 3), padding = 'same', activation = 'relu'))\n",
    "model1.add(layers.MaxPooling2D((2, 2)))\n",
    "model1.add(BatchNormalization())\n",
    "\n",
    "model1.add(Dropout(0.50))\n",
    "model1.add(layers.Flatten())\n",
    "\n",
    "model1.add(layers.Dense(512, activation = 'relu'))\n",
    "model1.add(BatchNormalization())\n",
    "model1.add(Dropout(0.50))\n",
    "\n",
    "model1.add(layers.Dense(10,activation = 'softmax'))\n",
    "\n",
    "model1.summary()"
   ]
  },
  {
   "cell_type": "code",
   "execution_count": 5,
   "metadata": {},
   "outputs": [],
   "source": [
    "model1.compile(loss='categorical_crossentropy',\n",
    "               optimizer= RMSprop(),\n",
    "               metrics=['accuracy'])"
   ]
  },
  {
   "cell_type": "code",
   "execution_count": 6,
   "metadata": {
    "scrolled": true
   },
   "outputs": [
    {
     "name": "stdout",
     "output_type": "stream",
     "text": [
      "Train on 40000 samples, validate on 10000 samples\n",
      "Epoch 1/35\n",
      "40000/40000 [==============================] - 49s 1ms/step - loss: 1.5887 - accuracy: 0.5002 - val_loss: 1.3234 - val_accuracy: 0.5295\n",
      "Epoch 2/35\n",
      "40000/40000 [==============================] - 49s 1ms/step - loss: 1.0313 - accuracy: 0.6403 - val_loss: 1.0272 - val_accuracy: 0.6473\n",
      "Epoch 3/35\n",
      "40000/40000 [==============================] - 49s 1ms/step - loss: 0.8658 - accuracy: 0.6962 - val_loss: 0.8453 - val_accuracy: 0.7146\n",
      "Epoch 4/35\n",
      "40000/40000 [==============================] - 50s 1ms/step - loss: 0.7696 - accuracy: 0.7300 - val_loss: 0.7818 - val_accuracy: 0.7334\n",
      "Epoch 5/35\n",
      "40000/40000 [==============================] - 50s 1ms/step - loss: 0.7002 - accuracy: 0.7561 - val_loss: 0.7597 - val_accuracy: 0.7417\n",
      "Epoch 6/35\n",
      "40000/40000 [==============================] - 49s 1ms/step - loss: 0.6392 - accuracy: 0.7781 - val_loss: 0.7243 - val_accuracy: 0.7570\n",
      "Epoch 7/35\n",
      "40000/40000 [==============================] - 49s 1ms/step - loss: 0.5855 - accuracy: 0.7976 - val_loss: 0.7378 - val_accuracy: 0.7585\n",
      "Epoch 8/35\n",
      "40000/40000 [==============================] - 49s 1ms/step - loss: 0.5433 - accuracy: 0.8102 - val_loss: 0.7431 - val_accuracy: 0.7611\n",
      "Epoch 9/35\n",
      "40000/40000 [==============================] - 49s 1ms/step - loss: 0.5022 - accuracy: 0.8272 - val_loss: 0.7207 - val_accuracy: 0.7727\n",
      "Epoch 10/35\n",
      "40000/40000 [==============================] - 49s 1ms/step - loss: 0.4659 - accuracy: 0.8389 - val_loss: 0.7642 - val_accuracy: 0.7669\n",
      "Epoch 11/35\n",
      "40000/40000 [==============================] - 51s 1ms/step - loss: 0.4378 - accuracy: 0.8491 - val_loss: 0.7523 - val_accuracy: 0.7671\n",
      "Epoch 12/35\n",
      "40000/40000 [==============================] - 51s 1ms/step - loss: 0.4162 - accuracy: 0.8543 - val_loss: 0.7219 - val_accuracy: 0.7780\n",
      "Epoch 13/35\n",
      "40000/40000 [==============================] - 51s 1ms/step - loss: 0.4025 - accuracy: 0.8597 - val_loss: 0.7886 - val_accuracy: 0.7687\n",
      "Epoch 14/35\n",
      "40000/40000 [==============================] - 51s 1ms/step - loss: 0.3796 - accuracy: 0.8686 - val_loss: 0.7205 - val_accuracy: 0.7782\n",
      "Epoch 15/35\n",
      "40000/40000 [==============================] - 52s 1ms/step - loss: 0.3522 - accuracy: 0.8789 - val_loss: 0.8006 - val_accuracy: 0.7721\n",
      "Epoch 16/35\n",
      "40000/40000 [==============================] - 52s 1ms/step - loss: 0.3458 - accuracy: 0.8798 - val_loss: 0.8082 - val_accuracy: 0.7705\n",
      "Epoch 17/35\n",
      "40000/40000 [==============================] - 51s 1ms/step - loss: 0.3324 - accuracy: 0.8855 - val_loss: 0.7094 - val_accuracy: 0.7770\n",
      "Epoch 18/35\n",
      "40000/40000 [==============================] - 53s 1ms/step - loss: 0.3174 - accuracy: 0.8909 - val_loss: 0.8183 - val_accuracy: 0.7837\n",
      "Epoch 19/35\n",
      "40000/40000 [==============================] - 51s 1ms/step - loss: 0.3052 - accuracy: 0.8943 - val_loss: 0.8072 - val_accuracy: 0.7838\n",
      "Epoch 20/35\n",
      "40000/40000 [==============================] - 51s 1ms/step - loss: 0.2993 - accuracy: 0.8970 - val_loss: 0.8070 - val_accuracy: 0.7849\n",
      "Epoch 21/35\n",
      "40000/40000 [==============================] - 52s 1ms/step - loss: 0.2922 - accuracy: 0.9018 - val_loss: 0.8324 - val_accuracy: 0.7809\n",
      "Epoch 22/35\n",
      "40000/40000 [==============================] - 52s 1ms/step - loss: 0.2825 - accuracy: 0.9033 - val_loss: 0.8577 - val_accuracy: 0.7816\n",
      "Epoch 23/35\n",
      "40000/40000 [==============================] - 53s 1ms/step - loss: 0.2745 - accuracy: 0.9070 - val_loss: 0.8685 - val_accuracy: 0.7809\n",
      "Epoch 24/35\n",
      "40000/40000 [==============================] - 53s 1ms/step - loss: 0.2685 - accuracy: 0.9097 - val_loss: 0.8314 - val_accuracy: 0.7818\n",
      "Epoch 25/35\n",
      "40000/40000 [==============================] - 52s 1ms/step - loss: 0.2554 - accuracy: 0.9130 - val_loss: 0.8040 - val_accuracy: 0.7742\n",
      "Epoch 26/35\n",
      "40000/40000 [==============================] - 56s 1ms/step - loss: 0.2548 - accuracy: 0.9139 - val_loss: 0.8188 - val_accuracy: 0.7841\n",
      "Epoch 27/35\n",
      "40000/40000 [==============================] - 52s 1ms/step - loss: 0.2496 - accuracy: 0.9161 - val_loss: 0.7958 - val_accuracy: 0.7861\n",
      "Epoch 28/35\n",
      "40000/40000 [==============================] - 55s 1ms/step - loss: 0.2351 - accuracy: 0.9200 - val_loss: 0.8156 - val_accuracy: 0.7875\n",
      "Epoch 29/35\n",
      "40000/40000 [==============================] - 54s 1ms/step - loss: 0.2423 - accuracy: 0.9189 - val_loss: 0.8015 - val_accuracy: 0.7827\n",
      "Epoch 30/35\n",
      "40000/40000 [==============================] - 51s 1ms/step - loss: 0.2294 - accuracy: 0.9225 - val_loss: 0.8614 - val_accuracy: 0.7725\n",
      "Epoch 31/35\n",
      "40000/40000 [==============================] - 52s 1ms/step - loss: 0.2247 - accuracy: 0.9233 - val_loss: 0.7921 - val_accuracy: 0.7816\n",
      "Epoch 32/35\n",
      "40000/40000 [==============================] - 58s 1ms/step - loss: 0.2213 - accuracy: 0.9260 - val_loss: 0.8243 - val_accuracy: 0.7866\n",
      "Epoch 33/35\n",
      "40000/40000 [==============================] - 56s 1ms/step - loss: 0.2172 - accuracy: 0.9268 - val_loss: 0.8620 - val_accuracy: 0.7889\n",
      "Epoch 34/35\n",
      "40000/40000 [==============================] - 54s 1ms/step - loss: 0.2095 - accuracy: 0.9293 - val_loss: 0.8716 - val_accuracy: 0.7814\n",
      "Epoch 35/35\n",
      "40000/40000 [==============================] - 53s 1ms/step - loss: 0.2067 - accuracy: 0.9305 - val_loss: 0.8165 - val_accuracy: 0.7810\n"
     ]
    }
   ],
   "source": [
    "history1 = model1.fit(x_train, y_train,\n",
    "           epochs=35,\n",
    "           batch_size = 100,\n",
    "           validation_data = (x_validate, y_validate),\n",
    "           verbose = 1)"
   ]
  },
  {
   "cell_type": "code",
   "execution_count": 8,
   "metadata": {},
   "outputs": [
    {
     "data": {
      "image/png": "[encoded data removed]",
      "text/plain": [
       "<Figure size 432x288 with 2 Axes>"
      ]
     },
     "metadata": {
      "needs_background": "light"
     },
     "output_type": "display_data"
    }
   ],
   "source": [
    "import matplotlib.pyplot as plt\n",
    "\n",
    "fig, axs = plt.subplots(2,1)\n",
    "axs[0].plot(history1.history['loss'], color = 'b', label = \"Training Loss\")\n",
    "axs[0].plot(history1.history['val_loss'], color = 'r', label = \"Validation Loss\", axes = axs[0])\n",
    "legend = axs[0].legend(loc='best', shadow = True)\n",
    "\n",
    "axs[1].plot(history1.history['accuracy'], color = 'b', label = \"Training Accuracy\")\n",
    "axs[1].plot(history1.history['val_accuracy'], color = 'r', label = \"Validation Accuracy\")\n",
    "legend = axs[1].legend(loc='best', shadow = True)"
   ]
  },
  {
   "cell_type": "code",
   "execution_count": 45,
   "metadata": {},
   "outputs": [
    {
     "name": "stdout",
     "output_type": "stream",
     "text": [
      "10000/10000 [==============================] - 4s 351us/step\n",
      "10000/10000 [==============================] - 3s 280us/step\n",
      "Validation: accuracy = 0.781000  ;  loss_v = 0.816508\n",
      "Test: accuracy = 0.784700  ;  loss = 0.818066\n"
     ]
    }
   ],
   "source": [
    "loss, accuracy = model1.evaluate(x_test, y_test, verbose=1)\n",
    "loss_v, accuracy_v = model1.evaluate(x_validate, y_validate, verbose=1)\n",
    "print(\"Validation: accuracy = %f  ;  loss_v = %f\" % (accuracy_v, loss_v))\n",
    "print(\"Test: accuracy = %f  ;  loss = %f\" % (accuracy, loss))"
   ]
  },
  {
   "cell_type": "code",
   "execution_count": 35,
   "metadata": {},
   "outputs": [],
   "source": [
    "from keras.utils import plot_model\n",
    "from keras.models import Model\n",
    "from keras.layers import Input\n",
    "from keras.layers import Dense\n",
    "from keras.layers import Flatten\n",
    "from keras.layers.convolutional import Conv2D\n",
    "from keras.layers.pooling import MaxPooling2D\n",
    "from keras.layers import BatchNormalization\n",
    "from keras.layers import Dropout\n",
    "from keras import layers\n",
    "from keras import Input\n",
    "from keras.models import Model"
   ]
  },
  {
   "cell_type": "code",
   "execution_count": 42,
   "metadata": {
    "scrolled": true
   },
   "outputs": [
    {
     "name": "stdout",
     "output_type": "stream",
     "text": [
      "(None, 8, 8, 128)\n",
      "Model: \"model_1\"\n",
      "__________________________________________________________________________________________________\n",
      "Layer (type)                    Output Shape         Param #     Connected to                     \n",
      "==================================================================================================\n",
      "input_30 (InputLayer)           (None, 32, 32, 3)    0                                            \n",
      "__________________________________________________________________________________________________\n",
      "conv2d_218 (Conv2D)             (None, 32, 32, 32)   896         input_30[0][0]                   \n",
      "__________________________________________________________________________________________________\n",
      "max_pooling2d_58 (MaxPooling2D) (None, 16, 16, 32)   0           conv2d_218[0][0]                 \n",
      "__________________________________________________________________________________________________\n",
      "batch_normalization_33 (BatchNo (None, 16, 16, 32)   128         max_pooling2d_58[0][0]           \n",
      "__________________________________________________________________________________________________\n",
      "conv2d_219 (Conv2D)             (None, 16, 16, 128)  36992       batch_normalization_33[0][0]     \n",
      "__________________________________________________________________________________________________\n",
      "max_pooling2d_59 (MaxPooling2D) (None, 8, 8, 128)    0           conv2d_219[0][0]                 \n",
      "__________________________________________________________________________________________________\n",
      "batch_normalization_34 (BatchNo (None, 8, 8, 128)    512         max_pooling2d_59[0][0]           \n",
      "__________________________________________________________________________________________________\n",
      "conv2d_220 (Conv2D)             (None, 8, 8, 64)     8256        batch_normalization_34[0][0]     \n",
      "__________________________________________________________________________________________________\n",
      "conv2d_222 (Conv2D)             (None, 8, 8, 64)     8256        batch_normalization_34[0][0]     \n",
      "__________________________________________________________________________________________________\n",
      "max_pooling2d_60 (MaxPooling2D) (None, 8, 8, 128)    0           batch_normalization_34[0][0]     \n",
      "__________________________________________________________________________________________________\n",
      "conv2d_221 (Conv2D)             (None, 8, 8, 64)     36928       conv2d_220[0][0]                 \n",
      "__________________________________________________________________________________________________\n",
      "conv2d_223 (Conv2D)             (None, 8, 8, 64)     102464      conv2d_222[0][0]                 \n",
      "__________________________________________________________________________________________________\n",
      "conv2d_224 (Conv2D)             (None, 8, 8, 64)     8256        max_pooling2d_60[0][0]           \n",
      "__________________________________________________________________________________________________\n",
      "concatenate_25 (Concatenate)    (None, 8, 8, 192)    0           conv2d_221[0][0]                 \n",
      "                                                                 conv2d_223[0][0]                 \n",
      "                                                                 conv2d_224[0][0]                 \n",
      "__________________________________________________________________________________________________\n",
      "dropout_4 (Dropout)             (None, 8, 8, 192)    0           concatenate_25[0][0]             \n",
      "__________________________________________________________________________________________________\n",
      "flatten_3 (Flatten)             (None, 12288)        0           dropout_4[0][0]                  \n",
      "__________________________________________________________________________________________________\n",
      "dense_4 (Dense)                 (None, 512)          6291968     flatten_3[0][0]                  \n",
      "__________________________________________________________________________________________________\n",
      "batch_normalization_35 (BatchNo (None, 512)          2048        dense_4[0][0]                    \n",
      "__________________________________________________________________________________________________\n",
      "dropout_5 (Dropout)             (None, 512)          0           batch_normalization_35[0][0]     \n",
      "__________________________________________________________________________________________________\n",
      "dense_5 (Dense)                 (None, 10)           5130        dropout_5[0][0]                  \n",
      "==================================================================================================\n",
      "Total params: 6,501,834\n",
      "Trainable params: 6,500,490\n",
      "Non-trainable params: 1,344\n",
      "__________________________________________________________________________________________________\n"
     ]
    }
   ],
   "source": [
    "input_layer = Input(shape = (32, 32, 3))\n",
    "\n",
    "#model1: block1\n",
    "block1_Conv1 =  layers.Conv2D(32, 3, activation = 'relu', padding = 'same')(input_layer)\n",
    "block1_MPool1 = layers.MaxPooling2D(2)(block1_Conv1)\n",
    "block1_Bn1 =    BatchNormalization()(block1_MPool1)\n",
    "\n",
    "block1_Conv2 =  layers.Conv2D(128, 3, activation = 'relu', padding = 'same')(block1_Bn1)\n",
    "block1_MPool2 = layers.MaxPooling2D(2)(block1_Conv2)\n",
    "block1_Bn2 =    BatchNormalization()(block1_MPool2)\n",
    "\n",
    "#inception block\n",
    "tower_1 = Conv2D(64, (1,1), padding='same', activation='relu')(block1_Bn2)\n",
    "tower_1 = Conv2D(64, (3,3), padding='same', activation='relu')(tower_1)\n",
    "tower_2 = Conv2D(64, (1,1), padding='same', activation='relu')(block1_Bn2)\n",
    "tower_2 = Conv2D(64, (5,5), padding='same', activation='relu')(tower_2)\n",
    "tower_3 = MaxPooling2D((3,3), strides=(1,1), padding='same')(block1_Bn2)\n",
    "tower_3 = Conv2D(64, (1,1), padding='same', activation='relu')(tower_3)\n",
    "    \n",
    "output_inception = keras.layers.concatenate([tower_1, tower_2, tower_3], axis = 3)\n",
    "\n",
    "#dense block\n",
    "dense1_dp1 =    Dropout(0.50)(output_inception)\n",
    "dense1_flt =    layers.Flatten()(dense1_dp1)\n",
    "\n",
    "dense1_dense1 = layers.Dense(512, activation = 'relu')(dense1_flt)\n",
    "dense1_Bn1 =    BatchNormalization()(dense1_dense1)\n",
    "dense1_dp2 =    Dropout(0.50)(dense1_Bn1)\n",
    "\n",
    "output_layer = layers.Dense(10,activation = 'softmax')(dense1_dp2)\n",
    "\n",
    "model2 = Model(inputs = input_layer, outputs = output_layer)\n",
    "model2.summary()"
   ]
  },
  {
   "cell_type": "code",
   "execution_count": 43,
   "metadata": {},
   "outputs": [],
   "source": [
    "model2.compile(loss='categorical_crossentropy',\n",
    "               optimizer= RMSprop(),\n",
    "               metrics=['accuracy'])"
   ]
  },
  {
   "cell_type": "code",
   "execution_count": 44,
   "metadata": {
    "scrolled": true
   },
   "outputs": [
    {
     "name": "stdout",
     "output_type": "stream",
     "text": [
      "Train on 40000 samples, validate on 10000 samples\n",
      "Epoch 1/35\n",
      "40000/40000 [==============================] - 84s 2ms/step - loss: 1.4213 - accuracy: 0.5204 - val_loss: 1.2153 - val_accuracy: 0.5758\n",
      "Epoch 2/35\n",
      "40000/40000 [==============================] - 83s 2ms/step - loss: 0.9560 - accuracy: 0.6659 - val_loss: 0.8099 - val_accuracy: 0.7208\n",
      "Epoch 3/35\n",
      "40000/40000 [==============================] - 83s 2ms/step - loss: 0.7973 - accuracy: 0.7212 - val_loss: 0.7800 - val_accuracy: 0.7366\n",
      "Epoch 4/35\n",
      "40000/40000 [==============================] - 88s 2ms/step - loss: 0.6932 - accuracy: 0.7582 - val_loss: 0.7097 - val_accuracy: 0.7561\n",
      "Epoch 5/35\n",
      "40000/40000 [==============================] - 83s 2ms/step - loss: 0.6178 - accuracy: 0.7851 - val_loss: 0.7251 - val_accuracy: 0.7518\n",
      "Epoch 6/35\n",
      "40000/40000 [==============================] - 88s 2ms/step - loss: 0.5519 - accuracy: 0.8065 - val_loss: 0.6599 - val_accuracy: 0.7799\n",
      "Epoch 7/35\n",
      "40000/40000 [==============================] - 87s 2ms/step - loss: 0.4999 - accuracy: 0.8272 - val_loss: 0.6570 - val_accuracy: 0.7792\n",
      "Epoch 8/35\n",
      "40000/40000 [==============================] - 85s 2ms/step - loss: 0.4588 - accuracy: 0.8392 - val_loss: 0.6741 - val_accuracy: 0.7821\n",
      "Epoch 9/35\n",
      "40000/40000 [==============================] - 90s 2ms/step - loss: 0.4202 - accuracy: 0.8528 - val_loss: 0.6499 - val_accuracy: 0.7843\n",
      "Epoch 10/35\n",
      "40000/40000 [==============================] - 88s 2ms/step - loss: 0.3847 - accuracy: 0.8650 - val_loss: 0.6650 - val_accuracy: 0.7956\n",
      "Epoch 11/35\n",
      "40000/40000 [==============================] - 90s 2ms/step - loss: 0.3552 - accuracy: 0.8759 - val_loss: 0.6841 - val_accuracy: 0.7882\n",
      "Epoch 12/35\n",
      "40000/40000 [==============================] - 85s 2ms/step - loss: 0.3255 - accuracy: 0.8837 - val_loss: 0.6572 - val_accuracy: 0.7974\n",
      "Epoch 13/35\n",
      "40000/40000 [==============================] - 83s 2ms/step - loss: 0.3059 - accuracy: 0.8934 - val_loss: 0.6707 - val_accuracy: 0.7976\n",
      "Epoch 14/35\n",
      "40000/40000 [==============================] - 84s 2ms/step - loss: 0.2812 - accuracy: 0.9006 - val_loss: 0.6699 - val_accuracy: 0.7972\n",
      "Epoch 15/35\n",
      "40000/40000 [==============================] - 85s 2ms/step - loss: 0.2628 - accuracy: 0.9071 - val_loss: 0.6699 - val_accuracy: 0.7981\n",
      "Epoch 16/35\n",
      "40000/40000 [==============================] - 85s 2ms/step - loss: 0.2514 - accuracy: 0.9100 - val_loss: 0.7207 - val_accuracy: 0.8020\n",
      "Epoch 17/35\n",
      "40000/40000 [==============================] - 84s 2ms/step - loss: 0.2393 - accuracy: 0.9147 - val_loss: 0.7110 - val_accuracy: 0.8036\n",
      "Epoch 18/35\n",
      "40000/40000 [==============================] - 85s 2ms/step - loss: 0.2238 - accuracy: 0.9219 - val_loss: 0.7617 - val_accuracy: 0.7915\n",
      "Epoch 19/35\n",
      "40000/40000 [==============================] - 85s 2ms/step - loss: 0.2155 - accuracy: 0.9244 - val_loss: 0.7061 - val_accuracy: 0.8037\n",
      "Epoch 20/35\n",
      "40000/40000 [==============================] - 83s 2ms/step - loss: 0.2097 - accuracy: 0.9247 - val_loss: 0.7231 - val_accuracy: 0.8041\n",
      "Epoch 21/35\n",
      "40000/40000 [==============================] - 85s 2ms/step - loss: 0.1948 - accuracy: 0.9315 - val_loss: 0.7840 - val_accuracy: 0.7972\n",
      "Epoch 22/35\n",
      "40000/40000 [==============================] - 86s 2ms/step - loss: 0.1851 - accuracy: 0.9339 - val_loss: 0.7903 - val_accuracy: 0.7943\n",
      "Epoch 23/35\n",
      "40000/40000 [==============================] - 87s 2ms/step - loss: 0.1816 - accuracy: 0.9373 - val_loss: 0.7040 - val_accuracy: 0.8063\n",
      "Epoch 24/35\n",
      "40000/40000 [==============================] - 85s 2ms/step - loss: 0.1769 - accuracy: 0.9380 - val_loss: 0.7259 - val_accuracy: 0.8120\n",
      "Epoch 25/35\n",
      "40000/40000 [==============================] - 86s 2ms/step - loss: 0.1699 - accuracy: 0.9403 - val_loss: 0.7388 - val_accuracy: 0.8061\n",
      "Epoch 26/35\n",
      "40000/40000 [==============================] - 85s 2ms/step - loss: 0.1631 - accuracy: 0.9429 - val_loss: 0.7901 - val_accuracy: 0.8063\n",
      "Epoch 27/35\n",
      "40000/40000 [==============================] - 87s 2ms/step - loss: 0.1575 - accuracy: 0.9445 - val_loss: 0.7655 - val_accuracy: 0.8049\n",
      "Epoch 28/35\n",
      "40000/40000 [==============================] - 86s 2ms/step - loss: 0.1495 - accuracy: 0.9485 - val_loss: 0.7298 - val_accuracy: 0.8128\n",
      "Epoch 29/35\n",
      "40000/40000 [==============================] - 86s 2ms/step - loss: 0.1487 - accuracy: 0.9481 - val_loss: 0.8095 - val_accuracy: 0.8051\n",
      "Epoch 30/35\n",
      "40000/40000 [==============================] - 86s 2ms/step - loss: 0.1404 - accuracy: 0.9510 - val_loss: 0.7572 - val_accuracy: 0.8092\n",
      "Epoch 31/35\n",
      "40000/40000 [==============================] - 84s 2ms/step - loss: 0.1427 - accuracy: 0.9508 - val_loss: 0.7847 - val_accuracy: 0.8094\n",
      "Epoch 32/35\n",
      "40000/40000 [==============================] - 87s 2ms/step - loss: 0.1342 - accuracy: 0.9524 - val_loss: 0.7741 - val_accuracy: 0.8109\n",
      "Epoch 33/35\n",
      "40000/40000 [==============================] - 88s 2ms/step - loss: 0.1296 - accuracy: 0.9547 - val_loss: 0.7959 - val_accuracy: 0.8026\n",
      "Epoch 34/35\n",
      "40000/40000 [==============================] - 84s 2ms/step - loss: 0.1268 - accuracy: 0.9549 - val_loss: 0.8601 - val_accuracy: 0.8020\n",
      "Epoch 35/35\n",
      "40000/40000 [==============================] - 88s 2ms/step - loss: 0.1277 - accuracy: 0.9556 - val_loss: 0.9128 - val_accuracy: 0.8081\n"
     ]
    }
   ],
   "source": [
    "history2 = model2.fit(x_train, y_train,\n",
    "           epochs=35,\n",
    "           batch_size = 100,\n",
    "           validation_data = (x_validate, y_validate),\n",
    "           verbose = 1)"
   ]
  },
  {
   "cell_type": "code",
   "execution_count": 81,
   "metadata": {},
   "outputs": [
    {
     "data": {
      "image/png": "[encoded data removed]",
      "text/plain": [
       "<Figure size 432x288 with 2 Axes>"
      ]
     },
     "metadata": {
      "needs_background": "light"
     },
     "output_type": "display_data"
    }
   ],
   "source": [
    "fig, axs = plt.subplots(2,1)\n",
    "axs[0].plot(history2.history['loss'], color = 'b', label = \"Training Loss\")\n",
    "axs[0].plot(history2.history['val_loss'], color = 'r', label = \"Validation Loss\", axes = axs[0])\n",
    "legend = axs[0].legend(loc='best', shadow = True)\n",
    "\n",
    "axs[1].plot(history2.history['accuracy'], color = 'b', label = \"Training Accuracy\")\n",
    "axs[1].plot(history2.history['val_accuracy'], color = 'r', label = \"Validation Accuracy\")\n",
    "legend = axs[1].legend(loc='best', shadow = True)"
   ]
  },
  {
   "cell_type": "code",
   "execution_count": 46,
   "metadata": {},
   "outputs": [
    {
     "name": "stdout",
     "output_type": "stream",
     "text": [
      "10000/10000 [==============================] - 4s 387us/step\n",
      "10000/10000 [==============================] - 4s 376us/step\n",
      "Validation: accuracy = 0.808100  ;  loss_v = 0.912779\n",
      "Test: accuracy = 0.804900  ;  loss = 0.910464\n"
     ]
    }
   ],
   "source": [
    "loss, accuracy = model2.evaluate(x_test, y_test, verbose=1)\n",
    "loss_v, accuracy_v = model2.evaluate(x_validate, y_validate, verbose=1)\n",
    "print(\"Validation: accuracy = %f  ;  loss_v = %f\" % (accuracy_v, loss_v))\n",
    "print(\"Test: accuracy = %f  ;  loss = %f\" % (accuracy, loss))"
   ]
  },
  {
   "cell_type": "code",
   "execution_count": 82,
   "metadata": {
    "scrolled": false
   },
   "outputs": [
    {
     "name": "stdout",
     "output_type": "stream",
     "text": [
      "Model: \"model_14\"\n",
      "__________________________________________________________________________________________________\n",
      "Layer (type)                    Output Shape         Param #     Connected to                     \n",
      "==================================================================================================\n",
      "input_57 (InputLayer)           (None, 32, 32, 3)    0                                            \n",
      "__________________________________________________________________________________________________\n",
      "conv2d_377 (Conv2D)             (None, 32, 32, 32)   896         input_57[0][0]                   \n",
      "__________________________________________________________________________________________________\n",
      "max_pooling2d_113 (MaxPooling2D (None, 16, 16, 32)   0           conv2d_377[0][0]                 \n",
      "__________________________________________________________________________________________________\n",
      "batch_normalization_173 (BatchN (None, 16, 16, 32)   128         max_pooling2d_113[0][0]          \n",
      "__________________________________________________________________________________________________\n",
      "conv2d_378 (Conv2D)             (None, 16, 16, 128)  36992       batch_normalization_173[0][0]    \n",
      "__________________________________________________________________________________________________\n",
      "max_pooling2d_114 (MaxPooling2D (None, 8, 8, 128)    0           conv2d_378[0][0]                 \n",
      "__________________________________________________________________________________________________\n",
      "batch_normalization_174 (BatchN (None, 8, 8, 128)    512         max_pooling2d_114[0][0]          \n",
      "__________________________________________________________________________________________________\n",
      "conv2d_379 (Conv2D)             (None, 4, 4, 128)    147584      batch_normalization_174[0][0]    \n",
      "__________________________________________________________________________________________________\n",
      "re_lu_71 (ReLU)                 (None, 4, 4, 128)    0           conv2d_379[0][0]                 \n",
      "__________________________________________________________________________________________________\n",
      "batch_normalization_175 (BatchN (None, 4, 4, 128)    512         re_lu_71[0][0]                   \n",
      "__________________________________________________________________________________________________\n",
      "conv2d_380 (Conv2D)             (None, 4, 4, 128)    147584      batch_normalization_175[0][0]    \n",
      "__________________________________________________________________________________________________\n",
      "re_lu_72 (ReLU)                 (None, 4, 4, 128)    0           conv2d_380[0][0]                 \n",
      "__________________________________________________________________________________________________\n",
      "batch_normalization_176 (BatchN (None, 4, 4, 128)    512         re_lu_72[0][0]                   \n",
      "__________________________________________________________________________________________________\n",
      "conv2d_381 (Conv2D)             (None, 4, 4, 128)    147584      batch_normalization_176[0][0]    \n",
      "__________________________________________________________________________________________________\n",
      "re_lu_73 (ReLU)                 (None, 4, 4, 128)    0           conv2d_381[0][0]                 \n",
      "__________________________________________________________________________________________________\n",
      "conv2d_382 (Conv2D)             (None, 4, 4, 128)    16512       batch_normalization_174[0][0]    \n",
      "__________________________________________________________________________________________________\n",
      "batch_normalization_177 (BatchN (None, 4, 4, 128)    512         re_lu_73[0][0]                   \n",
      "__________________________________________________________________________________________________\n",
      "add_48 (Add)                    (None, 4, 4, 128)    0           conv2d_382[0][0]                 \n",
      "                                                                 batch_normalization_177[0][0]    \n",
      "__________________________________________________________________________________________________\n",
      "re_lu_74 (ReLU)                 (None, 4, 4, 128)    0           add_48[0][0]                     \n",
      "__________________________________________________________________________________________________\n",
      "batch_normalization_178 (BatchN (None, 4, 4, 128)    512         re_lu_74[0][0]                   \n",
      "__________________________________________________________________________________________________\n",
      "dropout_28 (Dropout)            (None, 4, 4, 128)    0           batch_normalization_178[0][0]    \n",
      "__________________________________________________________________________________________________\n",
      "flatten_17 (Flatten)            (None, 2048)         0           dropout_28[0][0]                 \n",
      "__________________________________________________________________________________________________\n",
      "dense_30 (Dense)                (None, 512)          1049088     flatten_17[0][0]                 \n",
      "__________________________________________________________________________________________________\n",
      "batch_normalization_179 (BatchN (None, 512)          2048        dense_30[0][0]                   \n",
      "__________________________________________________________________________________________________\n",
      "dropout_29 (Dropout)            (None, 512)          0           batch_normalization_179[0][0]    \n",
      "__________________________________________________________________________________________________\n",
      "dense_31 (Dense)                (None, 10)           5130        dropout_29[0][0]                 \n",
      "==================================================================================================\n",
      "Total params: 1,556,106\n",
      "Trainable params: 1,553,738\n",
      "Non-trainable params: 2,368\n",
      "__________________________________________________________________________________________________\n"
     ]
    }
   ],
   "source": [
    "from keras.layers import ReLU\n",
    "from keras.layers import Add\n",
    "\n",
    "def relu_bn(inputs):\n",
    "    relu = ReLU()(inputs)\n",
    "    bn = BatchNormalization()(relu)\n",
    "    return bn\n",
    "\n",
    "def residual_block(x, downsample, filters, kernel_size: int = 3):\n",
    "    y = Conv2D(kernel_size=kernel_size, strides= (1 if not downsample else 2), filters=filters,padding=\"same\")(x)\n",
    "    y = relu_bn(y)\n",
    "    y = Conv2D(kernel_size=kernel_size, strides=1, filters=filters, padding=\"same\")(y)\n",
    "    y = relu_bn(y)\n",
    "    y = Conv2D(kernel_size=kernel_size, strides=1, filters=filters, padding=\"same\")(y)\n",
    "    y = relu_bn(y)\n",
    "\n",
    "    if downsample:\n",
    "        x = Conv2D(kernel_size=1, strides=2, filters=filters, padding=\"same\")(x)\n",
    "    out = Add()([x, y])\n",
    "    out = relu_bn(out)\n",
    "    return out\n",
    "\n",
    "def resnet_architecture():\n",
    "    \n",
    "    input_layer = Input(shape=(32, 32, 3))\n",
    "    \n",
    "    #model1: block2\n",
    "    block1_Conv1 =  layers.Conv2D(32, 3, activation = 'relu', padding = 'same')(input_layer)\n",
    "    block1_MPool1 = layers.MaxPooling2D(2)(block1_Conv1)\n",
    "    block1_Bn1 =    BatchNormalization()(block1_MPool1)\n",
    "\n",
    "    block1_Conv2 =  layers.Conv2D(128, 3, activation = 'relu', padding = 'same')(block1_Bn1)\n",
    "    block1_MPool2 = layers.MaxPooling2D(2)(block1_Conv2)\n",
    "    block1_Bn2 =    BatchNormalization()(block1_MPool2)\n",
    "    \n",
    "    #residual block\n",
    "    output_residual = residual_block(block1_Bn2, downsample=(True), filters=128)\n",
    "    \n",
    "    #dense block\n",
    "    dense1_dp1 =    Dropout(0.50)(output_residual)\n",
    "    dense1_flt =    layers.Flatten()(dense1_dp1)\n",
    "\n",
    "    dense1_dense1 = layers.Dense(512, activation = 'relu')(dense1_flt)\n",
    "    dense1_Bn1 =    BatchNormalization()(dense1_dense1)\n",
    "    dense1_dp2 =    Dropout(0.50)(dense1_Bn1)\n",
    "\n",
    "    output_layer = layers.Dense(10,activation = 'softmax')(dense1_dp2)\n",
    "\n",
    "    model = Model(inputs = input_layer, outputs = output_layer)\n",
    "    \n",
    "    return model\n",
    "\n",
    "model3 = resnet_architecture() # or create_plain_net()\n",
    "model3.summary()"
   ]
  },
  {
   "cell_type": "code",
   "execution_count": 83,
   "metadata": {},
   "outputs": [],
   "source": [
    "model3.compile(loss='categorical_crossentropy',\n",
    "               optimizer= RMSprop(),\n",
    "               metrics=['accuracy'])"
   ]
  },
  {
   "cell_type": "code",
   "execution_count": 84,
   "metadata": {},
   "outputs": [
    {
     "name": "stdout",
     "output_type": "stream",
     "text": [
      "Train on 40000 samples, validate on 10000 samples\n",
      "Epoch 1/35\n",
      "40000/40000 [==============================] - 53s 1ms/step - loss: 1.6940 - accuracy: 0.4536 - val_loss: 1.4614 - val_accuracy: 0.5077\n",
      "Epoch 2/35\n",
      "40000/40000 [==============================] - 51s 1ms/step - loss: 1.0989 - accuracy: 0.6198 - val_loss: 0.9663 - val_accuracy: 0.6697\n",
      "Epoch 3/35\n",
      "40000/40000 [==============================] - 50s 1ms/step - loss: 0.8806 - accuracy: 0.6931 - val_loss: 0.8310 - val_accuracy: 0.7116\n",
      "Epoch 4/35\n",
      "40000/40000 [==============================] - 54s 1ms/step - loss: 0.7419 - accuracy: 0.7401 - val_loss: 0.8294 - val_accuracy: 0.7119\n",
      "Epoch 5/35\n",
      "40000/40000 [==============================] - 55s 1ms/step - loss: 0.6305 - accuracy: 0.7778 - val_loss: 0.7396 - val_accuracy: 0.7493\n",
      "Epoch 6/35\n",
      "40000/40000 [==============================] - 54s 1ms/step - loss: 0.5456 - accuracy: 0.8087 - val_loss: 0.7367 - val_accuracy: 0.7538\n",
      "Epoch 7/35\n",
      "40000/40000 [==============================] - 55s 1ms/step - loss: 0.4568 - accuracy: 0.8390 - val_loss: 0.7689 - val_accuracy: 0.7616\n",
      "Epoch 8/35\n",
      "40000/40000 [==============================] - 56s 1ms/step - loss: 0.3941 - accuracy: 0.8594 - val_loss: 0.7730 - val_accuracy: 0.7665\n",
      "Epoch 9/35\n",
      "40000/40000 [==============================] - 56s 1ms/step - loss: 0.3327 - accuracy: 0.8847 - val_loss: 0.8246 - val_accuracy: 0.7662\n",
      "Epoch 10/35\n",
      "40000/40000 [==============================] - 52s 1ms/step - loss: 0.2811 - accuracy: 0.9012 - val_loss: 0.8772 - val_accuracy: 0.7618\n",
      "Epoch 11/35\n",
      "40000/40000 [==============================] - 53s 1ms/step - loss: 0.2523 - accuracy: 0.9135 - val_loss: 0.8672 - val_accuracy: 0.7746\n",
      "Epoch 12/35\n",
      "40000/40000 [==============================] - 52s 1ms/step - loss: 0.2215 - accuracy: 0.9225 - val_loss: 0.9472 - val_accuracy: 0.7674\n",
      "Epoch 13/35\n",
      "40000/40000 [==============================] - 51s 1ms/step - loss: 0.2002 - accuracy: 0.9306 - val_loss: 1.0106 - val_accuracy: 0.7698\n",
      "Epoch 14/35\n",
      "40000/40000 [==============================] - 52s 1ms/step - loss: 0.1836 - accuracy: 0.9371 - val_loss: 0.9773 - val_accuracy: 0.7676\n",
      "Epoch 15/35\n",
      "40000/40000 [==============================] - 53s 1ms/step - loss: 0.1644 - accuracy: 0.9434 - val_loss: 0.9999 - val_accuracy: 0.7739\n",
      "Epoch 16/35\n",
      "40000/40000 [==============================] - 55s 1ms/step - loss: 0.1500 - accuracy: 0.9487 - val_loss: 1.0263 - val_accuracy: 0.7769\n",
      "Epoch 17/35\n",
      "40000/40000 [==============================] - 56s 1ms/step - loss: 0.1340 - accuracy: 0.9540 - val_loss: 1.0811 - val_accuracy: 0.7753\n",
      "Epoch 18/35\n",
      "40000/40000 [==============================] - 56s 1ms/step - loss: 0.1354 - accuracy: 0.9555 - val_loss: 1.1523 - val_accuracy: 0.7615\n",
      "Epoch 19/35\n",
      "40000/40000 [==============================] - 58s 1ms/step - loss: 0.1242 - accuracy: 0.9567 - val_loss: 1.1516 - val_accuracy: 0.7723\n",
      "Epoch 20/35\n",
      "40000/40000 [==============================] - 57s 1ms/step - loss: 0.1125 - accuracy: 0.9619 - val_loss: 1.1444 - val_accuracy: 0.7744\n",
      "Epoch 21/35\n",
      "40000/40000 [==============================] - 60s 1ms/step - loss: 0.1028 - accuracy: 0.9647 - val_loss: 1.1604 - val_accuracy: 0.7701\n",
      "Epoch 22/35\n",
      "40000/40000 [==============================] - 56s 1ms/step - loss: 0.1000 - accuracy: 0.9664 - val_loss: 1.2590 - val_accuracy: 0.7643\n",
      "Epoch 23/35\n",
      "40000/40000 [==============================] - 56s 1ms/step - loss: 0.0971 - accuracy: 0.9672 - val_loss: 1.2584 - val_accuracy: 0.7647\n",
      "Epoch 24/35\n",
      "40000/40000 [==============================] - 55s 1ms/step - loss: 0.0910 - accuracy: 0.9701 - val_loss: 1.2938 - val_accuracy: 0.7615\n",
      "Epoch 25/35\n",
      "40000/40000 [==============================] - 55s 1ms/step - loss: 0.0918 - accuracy: 0.9694 - val_loss: 1.2554 - val_accuracy: 0.7678\n",
      "Epoch 26/35\n",
      "40000/40000 [==============================] - 57s 1ms/step - loss: 0.0786 - accuracy: 0.9741 - val_loss: 1.3155 - val_accuracy: 0.7657\n",
      "Epoch 27/35\n",
      "40000/40000 [==============================] - 59s 1ms/step - loss: 0.0796 - accuracy: 0.9728 - val_loss: 1.3007 - val_accuracy: 0.7737\n",
      "Epoch 28/35\n",
      "40000/40000 [==============================] - 63s 2ms/step - loss: 0.0746 - accuracy: 0.9740 - val_loss: 1.4319 - val_accuracy: 0.7651\n",
      "Epoch 29/35\n",
      "40000/40000 [==============================] - 54s 1ms/step - loss: 0.0738 - accuracy: 0.9751 - val_loss: 1.3273 - val_accuracy: 0.7717\n",
      "Epoch 30/35\n",
      "40000/40000 [==============================] - 53s 1ms/step - loss: 0.0715 - accuracy: 0.9765 - val_loss: 1.3088 - val_accuracy: 0.7687\n",
      "Epoch 31/35\n",
      "40000/40000 [==============================] - 53s 1ms/step - loss: 0.0733 - accuracy: 0.9767 - val_loss: 1.3168 - val_accuracy: 0.7736\n",
      "Epoch 32/35\n",
      "40000/40000 [==============================] - 54s 1ms/step - loss: 0.0627 - accuracy: 0.9794 - val_loss: 1.3086 - val_accuracy: 0.7659\n",
      "Epoch 33/35\n",
      "40000/40000 [==============================] - 53s 1ms/step - loss: 0.0627 - accuracy: 0.9797 - val_loss: 1.3415 - val_accuracy: 0.7694\n",
      "Epoch 34/35\n",
      "40000/40000 [==============================] - 55s 1ms/step - loss: 0.0627 - accuracy: 0.9788 - val_loss: 1.3732 - val_accuracy: 0.7725\n",
      "Epoch 35/35\n",
      "40000/40000 [==============================] - 53s 1ms/step - loss: 0.0584 - accuracy: 0.9807 - val_loss: 1.3446 - val_accuracy: 0.7665\n"
     ]
    }
   ],
   "source": [
    "history3 = model3.fit(x_train, y_train,\n",
    "           epochs=35,\n",
    "           batch_size = 100,\n",
    "           validation_data = (x_validate, y_validate),\n",
    "           verbose = 1)"
   ]
  },
  {
   "cell_type": "code",
   "execution_count": 85,
   "metadata": {},
   "outputs": [
    {
     "name": "stdout",
     "output_type": "stream",
     "text": [
      "10000/10000 [==============================] - 4s 399us/step\n",
      "10000/10000 [==============================] - 4s 409us/step\n",
      "Validation: accuracy = 0.766500  ;  loss_v = 1.344585\n",
      "Test: accuracy = 0.764400  ;  loss = 1.371122\n"
     ]
    }
   ],
   "source": [
    "loss, accuracy = model3.evaluate(x_test, y_test, verbose=1)\n",
    "loss_v, accuracy_v = model3.evaluate(x_validate, y_validate, verbose=1)\n",
    "print(\"Validation: accuracy = %f  ;  loss_v = %f\" % (accuracy_v, loss_v))\n",
    "print(\"Test: accuracy = %f  ;  loss = %f\" % (accuracy, loss))"
   ]
  },
  {
   "cell_type": "code",
   "execution_count": 86,
   "metadata": {},
   "outputs": [
    {
     "data": {
      "image/png": "[encoded data removed]",
      "text/plain": [
       "<Figure size 432x288 with 2 Axes>"
      ]
     },
     "metadata": {
      "needs_background": "light"
     },
     "output_type": "display_data"
    }
   ],
   "source": [
    "fig, axs = plt.subplots(2,1)\n",
    "axs[0].plot(history3.history['loss'], color = 'b', label = \"Training Loss\")\n",
    "axs[0].plot(history3.history['val_loss'], color = 'r', label = \"Validation Loss\", axes = axs[0])\n",
    "legend = axs[0].legend(loc='best', shadow = True)\n",
    "\n",
    "axs[1].plot(history3.history['accuracy'], color = 'b', label = \"Training Accuracy\")\n",
    "axs[1].plot(history3.history['val_accuracy'], color = 'r', label = \"Validation Accuracy\")\n",
    "legend = axs[1].legend(loc='best', shadow = True)"
   ]
  },
  {
   "cell_type": "code",
   "execution_count": null,
   "metadata": {},
   "outputs": [],
   "source": []
  }
 ],
 "metadata": {
  "kernelspec": {
   "display_name": "Python 3",
   "language": "python",
   "name": "python3"
  },
  "language_info": {
   "codemirror_mode": {
    "name": "ipython",
    "version": 3
   },
   "file_extension": ".py",
   "mimetype": "text/x-python",
   "name": "python",
   "nbconvert_exporter": "python",
   "pygments_lexer": "ipython3",
   "version": "3.7.4"
  }
 },
 "nbformat": 4,
 "nbformat_minor": 2
}
